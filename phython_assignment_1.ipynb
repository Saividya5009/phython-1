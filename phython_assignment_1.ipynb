{
  "nbformat": 4,
  "nbformat_minor": 0,
  "metadata": {
    "colab": {
      "name": "phython assignment 1",
      "provenance": [],
      "collapsed_sections": [],
      "authorship_tag": "ABX9TyM5XY8TV9TQQUPO74HFs7GU",
      "include_colab_link": true
    },
    "kernelspec": {
      "name": "python3",
      "display_name": "Python 3"
    }
  },
  "cells": [
    {
      "cell_type": "markdown",
      "metadata": {
        "id": "view-in-github",
        "colab_type": "text"
      },
      "source": [
        "<a href=\"https://colab.research.google.com/github/Saividya5009/phython-1/blob/master/phython_assignment_1.ipynb\" target=\"_parent\"><img src=\"https://colab.research.google.com/assets/colab-badge.svg\" alt=\"Open In Colab\"/></a>"
      ]
    },
    {
      "cell_type": "code",
      "metadata": {
        "id": "fNwJFOBn980m",
        "colab_type": "code",
        "colab": {}
      },
      "source": [
        ""
      ],
      "execution_count": null,
      "outputs": []
    },
    {
      "cell_type": "markdown",
      "metadata": {
        "id": "ZOjnet9L-DgU",
        "colab_type": "text"
      },
      "source": [
        "program 1"
      ]
    },
    {
      "cell_type": "code",
      "metadata": {
        "id": "WuqlLMI7-Tbv",
        "colab_type": "code",
        "colab": {
          "base_uri": "https://localhost:8080/",
          "height": 170
        },
        "outputId": "dba1358f-1e2c-413c-8c99-c600cd79af19"
      },
      "source": [
        "a=int(input (\"enter the value \"))\n",
        "b=int(input(\"enter the value \"))\n",
        "print('the sum of two values are',a+b)\n",
        "print ('the difference of two values are',a-b)\n",
        "print('the division of two values are',a/b)\n",
        "print('the multiplication of two values',a*b)\n",
        "print('the modulous of two values',a%b)\n",
        "print ('the floor division of two values are',a//b)\n",
        "print('the exponet of two values is',a ** b)\n",
        "\n",
        "  "
      ],
      "execution_count": null,
      "outputs": [
        {
          "output_type": "stream",
          "text": [
            "enter the value 4\n",
            "enter the value 2\n",
            "the sum of two values are 6\n",
            "the difference of two values are 2\n",
            "the division of two values are 2.0\n",
            "the multiplication of two values 8\n",
            "the modulous of two values 0\n",
            "the floor division of two values are 2\n",
            "the exponet of two values is 16\n"
          ],
          "name": "stdout"
        }
      ]
    },
    {
      "cell_type": "markdown",
      "metadata": {
        "id": "wOEToeMNBFt_",
        "colab_type": "text"
      },
      "source": [
        "2.area of circle"
      ]
    },
    {
      "cell_type": "code",
      "metadata": {
        "id": "suTuVSVJBJFJ",
        "colab_type": "code",
        "colab": {
          "base_uri": "https://localhost:8080/",
          "height": 68
        },
        "outputId": "da81ffa5-b7ab-4f60-d5a3-5550b0845198"
      },
      "source": [
        "radius=int(input(\"enter the radius\"))\n",
        "pi=float(input(\"the value of pi\"))\n",
        "print(\"area of circle is\",pi*radius*radius)"
      ],
      "execution_count": null,
      "outputs": [
        {
          "output_type": "stream",
          "text": [
            "enter the radius2\n",
            "the value of pi3.14\n",
            "area of circle is 12.56\n"
          ],
          "name": "stdout"
        }
      ]
    },
    {
      "cell_type": "markdown",
      "metadata": {
        "id": "cDCWFMunCSC5",
        "colab_type": "text"
      },
      "source": [
        "3.area of triangle"
      ]
    },
    {
      "cell_type": "code",
      "metadata": {
        "id": "MCkuRhfPCXUa",
        "colab_type": "code",
        "colab": {
          "base_uri": "https://localhost:8080/",
          "height": 68
        },
        "outputId": "00f754f2-9af7-43cb-b079-5a3b9bc5584d"
      },
      "source": [
        "base=int(input(\"enter the value of base\"))\n",
        "height=int(input(\"enter the value of height\"))\n",
        "print(\"the area of triangle is\",0.5*base*height)"
      ],
      "execution_count": null,
      "outputs": [
        {
          "output_type": "stream",
          "text": [
            "enter the value of base2\n",
            "enter the value of height3\n",
            "the area of triangle is 3.0\n"
          ],
          "name": "stdout"
        }
      ]
    },
    {
      "cell_type": "markdown",
      "metadata": {
        "id": "Em5G-cS-rjze",
        "colab_type": "text"
      },
      "source": [
        "4.area of rectangle"
      ]
    },
    {
      "cell_type": "code",
      "metadata": {
        "id": "f8KMbN4KrjS1",
        "colab_type": "code",
        "colab": {
          "base_uri": "https://localhost:8080/",
          "height": 68
        },
        "outputId": "64948bb6-47af-44d3-fb28-a6c07b9c57b5"
      },
      "source": [
        "breadth=int(input(\"enter the value of breadth\"))\n",
        "length=int(input(\"enter the value of length\"))\n",
        "print (\"area of rectangle is\",breadth*height)"
      ],
      "execution_count": null,
      "outputs": [
        {
          "output_type": "stream",
          "text": [
            "enter the value of breadth4\n",
            "enter the value of length3\n",
            "area of rectangle is 12\n"
          ],
          "name": "stdout"
        }
      ]
    },
    {
      "cell_type": "markdown",
      "metadata": {
        "id": "fc-VQn8btL5B",
        "colab_type": "text"
      },
      "source": [
        "5.perimeter of a square\n"
      ]
    },
    {
      "cell_type": "code",
      "metadata": {
        "id": "tlkUxmZvtlBn",
        "colab_type": "code",
        "colab": {
          "base_uri": "https://localhost:8080/",
          "height": 51
        },
        "outputId": "bc70ff0a-1de1-461e-deb1-ad565ac89362"
      },
      "source": [
        "side=int(input(\"enter the value of side\"))\n",
        "print(\"perimeter of square is\",4*side)"
      ],
      "execution_count": null,
      "outputs": [
        {
          "output_type": "stream",
          "text": [
            "enter the value of side4\n",
            "perimeter of square is 16\n"
          ],
          "name": "stdout"
        }
      ]
    },
    {
      "cell_type": "markdown",
      "metadata": {
        "id": "qUoGPc4UuFjK",
        "colab_type": "text"
      },
      "source": [
        "6.circumference of a circle"
      ]
    },
    {
      "cell_type": "code",
      "metadata": {
        "id": "--l7W8DmuK_0",
        "colab_type": "code",
        "colab": {
          "base_uri": "https://localhost:8080/",
          "height": 51
        },
        "outputId": "726a7e02-b76c-4a7f-e89b-9800bbc552e5"
      },
      "source": [
        "radius=int(input(\"enter the value of radius\"))\n",
        "pi=3.14\n",
        "print(\"the circumference of circle is\",2*pi*radius)"
      ],
      "execution_count": null,
      "outputs": [
        {
          "output_type": "stream",
          "text": [
            "enter the value of radius6\n",
            "the circumference of circle is 37.68\n"
          ],
          "name": "stdout"
        }
      ]
    },
    {
      "cell_type": "markdown",
      "metadata": {
        "id": "b26F9h90vAjq",
        "colab_type": "text"
      },
      "source": [
        "7.swapping of two numbers \n"
      ]
    },
    {
      "cell_type": "code",
      "metadata": {
        "id": "4KhByff5vKrO",
        "colab_type": "code",
        "colab": {
          "base_uri": "https://localhost:8080/",
          "height": 34
        },
        "outputId": "a35935ed-5969-4282-9bfd-d825adab627e"
      },
      "source": [
        "a=4\n",
        "b=7\n",
        "temp=a\n",
        "a=b\n",
        "b=temp\n",
        "print(\"after swapping tha two numbers are\",a,b)"
      ],
      "execution_count": null,
      "outputs": [
        {
          "output_type": "stream",
          "text": [
            "after swapping tha two numbers are 7 4\n"
          ],
          "name": "stdout"
        }
      ]
    },
    {
      "cell_type": "markdown",
      "metadata": {
        "id": "i_VIAlPj4HHV",
        "colab_type": "text"
      },
      "source": [
        "8.simple intrest"
      ]
    },
    {
      "cell_type": "code",
      "metadata": {
        "id": "O-NkqCt94hwx",
        "colab_type": "code",
        "colab": {
          "base_uri": "https://localhost:8080/",
          "height": 34
        },
        "outputId": "3c635fb9-3eca-4113-f29c-d52bd5cb19aa"
      },
      "source": [
        "principalamount=3\n",
        "time=5\n",
        "rate=6\n",
        "print(\"the simple intrest is\",(principalamount*time*rate/100))"
      ],
      "execution_count": 3,
      "outputs": [
        {
          "output_type": "stream",
          "text": [
            "the simple intrest is 0.9\n"
          ],
          "name": "stdout"
        }
      ]
    },
    {
      "cell_type": "markdown",
      "metadata": {
        "id": "GHuylCKu5ghU",
        "colab_type": "text"
      },
      "source": [
        "9.convert farenheit to celcius\n"
      ]
    },
    {
      "cell_type": "code",
      "metadata": {
        "id": "864zlpUr5lpi",
        "colab_type": "code",
        "colab": {
          "base_uri": "https://localhost:8080/",
          "height": 51
        },
        "outputId": "22a0bc4f-a7c0-40ec-a8a5-be37e3a43f24"
      },
      "source": [
        "celsius=float(input(\"enter the temperatue in celsius\"))\n",
        "farenheit=(celsius*9/5)+32\n",
        "print(\"the temperature in farenheit is\",farenheit)"
      ],
      "execution_count": 6,
      "outputs": [
        {
          "output_type": "stream",
          "text": [
            "enter the temperatue in celsius43.98\n",
            "the temperature in farenheit is 111.164\n"
          ],
          "name": "stdout"
        }
      ]
    }
  ]
}